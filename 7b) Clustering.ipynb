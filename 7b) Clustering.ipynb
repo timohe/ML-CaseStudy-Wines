{
 "cells": [
  {
   "cell_type": "markdown",
   "metadata": {},
   "source": [
    "# 7b) Clustering"
   ]
  },
  {
   "cell_type": "code",
   "execution_count": 66,
   "metadata": {},
   "outputs": [
    {
     "data": {
      "text/html": [
       "<script>requirejs.config({paths: { 'plotly': ['https://cdn.plot.ly/plotly-latest.min']},});if(!window.Plotly) {{require(['plotly'],function(plotly) {window.Plotly=plotly;});}}</script>"
      ],
      "text/vnd.plotly.v1+html": [
       "<script>requirejs.config({paths: { 'plotly': ['https://cdn.plot.ly/plotly-latest.min']},});if(!window.Plotly) {{require(['plotly'],function(plotly) {window.Plotly=plotly;});}}</script>"
      ]
     },
     "metadata": {},
     "output_type": "display_data"
    }
   ],
   "source": [
    "import sklearn\n",
    "#import plotly.plotly as py\n",
    "#from plotly.offline import download_plotlyjs, init_notebook_mode, plot, iplot\n",
    "#from plotly import figure_factory as figureFact\n",
    "from sklearn.cluster import KMeans \n",
    "from sklearn.cluster import SpectralClustering\n",
    "from sklearn.cluster import AgglomerativeClustering\n",
    "from sklearn.cluster import DBSCAN\n",
    "from sklearn.metrics import silhouette_score\n",
    "\n",
    "#use pandas to load csv file\n",
    "import pandas as pandas\n",
    "#use numpy to calculate stuff\n",
    "import numpy as np\n",
    "\n",
    "# init offline plotlib\n",
    "#init_notebook_mode(connected=True)"
   ]
  },
  {
   "cell_type": "markdown",
   "metadata": {},
   "source": [
    "### Data preparation"
   ]
  },
  {
   "cell_type": "code",
   "execution_count": 67,
   "metadata": {},
   "outputs": [],
   "source": [
    "#load data and merge both tables to one, ignore_index to reindex\n",
    "redwinedata = pandas.read_csv('data/winequality-red.csv', sep =';')\n",
    "whitewinedata = pandas.read_csv('data/winequality-white.csv', sep =';')\n",
    "\n",
    "#simplified data for testing\n",
    "#redwinedata = pandas.read_csv('data/red_onlysugar.csv', sep =';')\n",
    "#whitewinedata = pandas.read_csv('data/white_onlysugar.csv', sep =';')\n",
    "\n",
    "concat_data = redwinedata.append(whitewinedata, ignore_index=True)"
   ]
  },
  {
   "cell_type": "code",
   "execution_count": 68,
   "metadata": {},
   "outputs": [],
   "source": [
    "# drop the quality label and data\n",
    "concat_data = concat_data.drop('quality', axis=1)"
   ]
  },
  {
   "cell_type": "code",
   "execution_count": 69,
   "metadata": {
    "scrolled": true
   },
   "outputs": [],
   "source": [
    "#show the head of data\n",
    "# concat_data.head()"
   ]
  },
  {
   "cell_type": "code",
   "execution_count": 70,
   "metadata": {},
   "outputs": [],
   "source": [
    "winearray = concat_data.values\n",
    "# print(winearray)"
   ]
  },
  {
   "cell_type": "code",
   "execution_count": 71,
   "metadata": {
    "scrolled": true
   },
   "outputs": [],
   "source": [
    "# normalize the data \n",
    "winearray_norm = sklearn.preprocessing.scale(winearray)"
   ]
  },
  {
   "cell_type": "markdown",
   "metadata": {},
   "source": [
    "### K-Means"
   ]
  },
  {
   "cell_type": "code",
   "execution_count": 72,
   "metadata": {},
   "outputs": [
    {
     "name": "stdout",
     "output_type": "stream",
     "text": [
      "[[2, 0.9627657604238751], [3, 0.7111175344744713], [4, 0.6039490901736749]]\n"
     ]
    }
   ],
   "source": [
    "# http://scikit-learn.org/stable/auto_examples/cluster/plot_kmeans_silhouette_analysis.html\n",
    "\n",
    "kmeans_sil_scores = []\n",
    "\n",
    "for nr_clusters in range(2, 5):\n",
    "    clusterer = KMeans(n_clusters=nr_clusters, random_state=10)\n",
    "    cluster_labels = clusterer.fit_predict(winearray_norm)\n",
    "    #print(cluster_labels)\n",
    "    silhouette_avg = silhouette_score(winearray_norm, cluster_labels)\n",
    "    #print(\"For n_clusters =\", nr_clusters,\"The average silhouette_score is :\", silhouette_avg)\n",
    "    kmeans_sil_scores.append([nr_clusters, silhouette_avg])\n",
    "\n",
    "print(kmeans_sil_scores)"
   ]
  },
  {
   "cell_type": "markdown",
   "metadata": {},
   "source": [
    "### Spectral Clustering"
   ]
  },
  {
   "cell_type": "code",
   "execution_count": 73,
   "metadata": {},
   "outputs": [
    {
     "name": "stdout",
     "output_type": "stream",
     "text": [
      "For n_clusters = 2 The average silhouette_score is : 0.9627657604238751\n",
      "For n_clusters = 3 The average silhouette_score is : 0.7111175344744713\n",
      "For n_clusters = 4 The average silhouette_score is : 0.2991327300150591\n",
      "[[2, 0.9627657604238751], [3, 0.7111175344744713], [4, 0.2991327300150591]]\n"
     ]
    }
   ],
   "source": [
    "spectral_sil_scores = []\n",
    "\n",
    "for nr_clusters in range(2, 5):\n",
    "    clusterer = SpectralClustering(n_clusters=nr_clusters, eigen_solver=None)\n",
    "    #clusterer = SpectralClustering(n_clusters=nr_clusters, eigen_solver='arpack')\n",
    "    cluster_labels = clusterer.fit_predict(winearray_norm)\n",
    "    #print(cluster_labels)\n",
    "    silhouette_avg = silhouette_score(winearray_norm, cluster_labels)\n",
    "    print(\"For n_clusters =\", nr_clusters,\"The average silhouette_score is :\", silhouette_avg)\n",
    "    spectral_sil_scores.append([nr_clusters, silhouette_avg])\n",
    "\n",
    "print(spectral_sil_scores)\n"
   ]
  },
  {
   "cell_type": "markdown",
   "metadata": {},
   "source": [
    "### Ward Agglomerative Clustering"
   ]
  },
  {
   "cell_type": "code",
   "execution_count": 74,
   "metadata": {},
   "outputs": [
    {
     "name": "stdout",
     "output_type": "stream",
     "text": [
      "[[2, 0.9627657604238751], [3, 0.7111175344744713], [4, 0.6039490901736749]]\n"
     ]
    }
   ],
   "source": [
    "ward_sil_scores = []\n",
    "\n",
    "for nr_clusters in range(2, 5):\n",
    "    clusterer =  clustering = AgglomerativeClustering(linkage='ward', n_clusters=nr_clusters)\n",
    "    cluster_labels = clusterer.fit_predict(winearray_norm)\n",
    "    #print(cluster_labels)\n",
    "    silhouette_avg = silhouette_score(winearray_norm, cluster_labels)\n",
    "    #print(\"For n_clusters =\", nr_clusters,\"The average silhouette_score is :\", silhouette_avg)\n",
    "    ward_sil_scores.append([nr_clusters, silhouette_avg])\n",
    "\n",
    "print(ward_sil_scores)"
   ]
  },
  {
   "cell_type": "markdown",
   "metadata": {},
   "source": [
    "### Summarize the results in a table"
   ]
  },
  {
   "cell_type": "code",
   "execution_count": 75,
   "metadata": {},
   "outputs": [
    {
     "name": "stdout",
     "output_type": "stream",
     "text": [
      "   clusters   k-means  spectral      ward\n",
      "0         2  0.962766  0.962766  0.962766\n",
      "1         3  0.711118  0.711118  0.711118\n",
      "2         4  0.603949  0.299133  0.603949\n"
     ]
    }
   ],
   "source": [
    "table_index = [];\n",
    "table_kmeans = [];\n",
    "for member in kmeans_sil_scores:\n",
    "    table_index.append(member[0])\n",
    "    table_kmeans.append(member[1])\n",
    "\n",
    "    \n",
    "table_spectral = [];\n",
    "for member in spectral_sil_scores:\n",
    "    table_spectral.append(member[1])  \n",
    "    \n",
    "table_ward = [];\n",
    "for member in ward_sil_scores:\n",
    "    table_ward.append(member[1])    \n",
    "        \n",
    "\n",
    "print(pandas.DataFrame({'clusters':table_index, 'k-means':table_kmeans, 'ward':table_ward, 'spectral':table_spectral}))\n"
   ]
  },
  {
   "cell_type": "markdown",
   "metadata": {},
   "source": [
    "Surprisingly, the quickest and simplest algorithm \"k-means\" was the best performing, although the performance of all three was very similar."
   ]
  },
  {
   "cell_type": "markdown",
   "metadata": {},
   "source": [
    "### Basic statistics for K-Mean Clusters"
   ]
  },
  {
   "cell_type": "code",
   "execution_count": 76,
   "metadata": {},
   "outputs": [
    {
     "name": "stdout",
     "output_type": "stream",
     "text": [
      "first cluster:\n",
      "         0\n",
      "mean  1.00\n",
      "std   0.10\n",
      "min   0.89\n",
      "max   1.13\n",
      "\n",
      "second cluster:\n",
      "         0\n",
      "mean -1.00\n",
      "std   0.01\n",
      "min  -1.01\n",
      "max  -0.98\n"
     ]
    }
   ],
   "source": [
    "clusterer = KMeans(n_clusters=2, random_state=10)\n",
    "cluster_labels = clusterer.fit_predict(winearray_norm)\n",
    "\n",
    "#convert nparray to dataframe and merge with normalized data (converted to dataframe) \n",
    "cluster_labels_dataframe = pandas.DataFrame({'cluster_nr':cluster_labels})\n",
    "concat_with_cluster_nr = pandas.concat([pandas.DataFrame(winearray_norm), cluster_labels_dataframe], axis=1)\n",
    "\n",
    "cluster1_data = concat_with_cluster_nr[concat_with_cluster_nr.cluster_nr == 1]\n",
    "print(\"first cluster:\")\n",
    "print(cluster1_data.describe().round(2).drop(['count', '25%', '50%', '75%']).drop('cluster_nr', axis=1))\n",
    "\n",
    "cluster2_data = concat_with_cluster_nr[concat_with_cluster_nr.cluster_nr == 0]\n",
    "print(\"\")\n",
    "print(\"second cluster:\")\n",
    "print(cluster2_data.describe().round(2).drop(['count', '25%', '50%', '75%']).drop('cluster_nr', axis=1))"
   ]
  },
  {
   "cell_type": "markdown",
   "metadata": {},
   "source": [
    "More or less all of the features have very different data in both clusters. I assume it found out the difference between red and whitewine and separated it according to this."
   ]
  }
 ],
 "metadata": {
  "kernelspec": {
   "display_name": "Python 3",
   "language": "python",
   "name": "python3"
  },
  "language_info": {
   "codemirror_mode": {
    "name": "ipython",
    "version": 3
   },
   "file_extension": ".py",
   "mimetype": "text/x-python",
   "name": "python",
   "nbconvert_exporter": "python",
   "pygments_lexer": "ipython3",
   "version": "3.6.4"
  }
 },
 "nbformat": 4,
 "nbformat_minor": 2
}
