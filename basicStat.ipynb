{
 "cells": [
  {
   "cell_type": "markdown",
   "metadata": {},
   "source": [
    "# 7a) Basic Statistics"
   ]
  },
  {
   "cell_type": "code",
   "execution_count": 1,
   "metadata": {},
   "outputs": [
    {
     "data": {
      "text/html": [
       "<script>requirejs.config({paths: { 'plotly': ['https://cdn.plot.ly/plotly-latest.min']},});if(!window.Plotly) {{require(['plotly'],function(plotly) {window.Plotly=plotly;});}}</script>"
      ],
      "text/vnd.plotly.v1+html": [
       "<script>requirejs.config({paths: { 'plotly': ['https://cdn.plot.ly/plotly-latest.min']},});if(!window.Plotly) {{require(['plotly'],function(plotly) {window.Plotly=plotly;});}}</script>"
      ]
     },
     "metadata": {},
     "output_type": "display_data"
    }
   ],
   "source": [
    "import plotly.plotly as py\n",
    "from plotly.offline import download_plotlyjs, init_notebook_mode, plot, iplot\n",
    "from plotly import figure_factory as figureFact\n",
    "\n",
    "#use pandas to load csv file\n",
    "import pandas as pandas\n",
    "#use numpy to calculate stuff\n",
    "import numpy as np\n",
    "\n",
    "# init offline plotlib\n",
    "init_notebook_mode(connected=True)"
   ]
  },
  {
   "cell_type": "code",
   "execution_count": 2,
   "metadata": {},
   "outputs": [],
   "source": [
    "#load data\n",
    "redwinedata = pandas.read_csv('data/winequality-red.csv', sep =';')\n",
    "whitewinedata = pandas.read_csv('data/winequality-white.csv', sep =';')"
   ]
  },
  {
   "cell_type": "code",
   "execution_count": 3,
   "metadata": {},
   "outputs": [],
   "source": [
    "# use like this to get only one mean = np.mean(redwinedata['pH'])\n",
    "red_mean = np.mean(redwinedata)\n",
    "#need to specify axis for mean!\n",
    "red_median = np.median(redwinedata, axis=0)\n",
    "red_stdev = np.std(redwinedata)\n",
    "white_mean = np.mean(whitewinedata)\n",
    "white_median = np.median(whitewinedata, axis=0)\n",
    "white_stdev = np.std(whitewinedata)\n",
    "\n",
    "#convert median to panda series\n",
    "red_median = pandas.Series(list(red_median))\n",
    "white_median = pandas.Series(list(white_median))\n",
    "\n",
    "#convert from type: series to new type dataframe to be able to plot. \n",
    "basicStats = pandas.DataFrame({'a_property':red_mean.index, 'mean_red':red_mean.values, 'mean_white':white_mean.values, 'std_dev_red': red_stdev.values, 'std_dev_white': white_stdev.values, 'median_red': red_median.values, 'median_white': white_median.values })\n"
   ]
  },
  {
   "cell_type": "code",
   "execution_count": 6,
   "metadata": {},
   "outputs": [
    {
     "data": {
      "text/html": [
       "<iframe id=\"igraph\" scrolling=\"no\" style=\"border:none;\" seamless=\"seamless\" src=\"https://plot.ly/~timohe/10.embed\" height=\"440px\" width=\"100%\"></iframe>"
      ],
      "text/plain": [
       "<plotly.tools.PlotlyDisplay object>"
      ]
     },
     "execution_count": 6,
     "metadata": {},
     "output_type": "execute_result"
    }
   ],
   "source": [
    "# print results from above\n",
    "basicStats_table = figureFact.create_table(basicStats.round(2))\n",
    "py.iplot(basicStats_table, filename='basicStats_redwine')"
   ]
  },
  {
   "cell_type": "markdown",
   "metadata": {},
   "source": [
    "Based on the data above there are several features which distinguish redwine from whitewine e.g. residual sugar seems to be significantly different (white wine is indeed sweeter) as well as valatile acidity and sulfur dioxide values. \n",
    "I assume that a clustering algorithm is able to pick up those features, maybe dropping some features will help."
   ]
  }
 ],
 "metadata": {
  "kernelspec": {
   "display_name": "Python 3",
   "language": "python",
   "name": "python3"
  },
  "language_info": {
   "codemirror_mode": {
    "name": "ipython",
    "version": 3
   },
   "file_extension": ".py",
   "mimetype": "text/x-python",
   "name": "python",
   "nbconvert_exporter": "python",
   "pygments_lexer": "ipython3",
   "version": "3.5.4"
  }
 },
 "nbformat": 4,
 "nbformat_minor": 1
}
