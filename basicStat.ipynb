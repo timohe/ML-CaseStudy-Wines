{
 "cells": [
  {
   "cell_type": "code",
   "execution_count": null,
   "metadata": {
    "collapsed": true
   },
   "outputs": [],
   "source": [
    "from plotly import figure_factory as figureFact\n",
    "import plotly\n",
    "plotly.tools.set_credentials_file(username='timohe', api_key='whscm6zMl3idzrORwvzz')\n",
    "\n",
    "# import plotly.graph_objs as go\n",
    "#\n",
    "# import numpy as np\n",
    "import pandas as pandas\n",
    "# import scipy"
   ]
  }
 ],
 "metadata": {
  "kernelspec": {
   "display_name": "Python 2",
   "language": "python",
   "name": "python2"
  },
  "language_info": {
   "codemirror_mode": {
    "name": "ipython",
    "version": 2
   },
   "file_extension": ".py",
   "mimetype": "text/x-python",
   "name": "python",
   "nbconvert_exporter": "python",
   "pygments_lexer": "ipython2",
   "version": "2.7.6"
  }
 },
 "nbformat": 4,
 "nbformat_minor": 0
}
