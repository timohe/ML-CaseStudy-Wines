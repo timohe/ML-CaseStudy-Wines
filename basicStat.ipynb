{
 "cells": [
  {
   "cell_type": "code",
   "execution_count": 1,
   "metadata": {},
   "outputs": [
    {
     "data": {
      "text/html": [
       "<script>requirejs.config({paths: { 'plotly': ['https://cdn.plot.ly/plotly-latest.min']},});if(!window.Plotly) {{require(['plotly'],function(plotly) {window.Plotly=plotly;});}}</script>"
      ],
      "text/vnd.plotly.v1+html": [
       "<script>requirejs.config({paths: { 'plotly': ['https://cdn.plot.ly/plotly-latest.min']},});if(!window.Plotly) {{require(['plotly'],function(plotly) {window.Plotly=plotly;});}}</script>"
      ]
     },
     "metadata": {},
     "output_type": "display_data"
    }
   ],
   "source": [
    "import plotly.plotly as py\n",
    "from plotly.offline import download_plotlyjs, init_notebook_mode, plot, iplot\n",
    "from plotly import figure_factory as figureFact\n",
    "\n",
    "#use pandas to load csv file\n",
    "import pandas as pandas\n",
    "#use numpy to calculate stuff\n",
    "import numpy as np\n",
    "\n",
    "# init offline plotlib\n",
    "init_notebook_mode(connected=True)"
   ]
  },
  {
   "cell_type": "markdown",
   "metadata": {},
   "source": [
    "Let's load the data and show a part of the data in the table to get an overview how the data looks like:"
   ]
  },
  {
   "cell_type": "code",
   "execution_count": 2,
   "metadata": {},
   "outputs": [],
   "source": [
    "redwinedata = pandas.read_csv('data/winequality-red.csv', sep =';')\n",
    "whitewinedata = pandas.read_csv('data/winequality-red.csv', sep =';')\n",
    "\n",
    "# TODO: uncomment this, only commented to quickly go through\n",
    "# redwine_overview_table = figureFact.create_table(redwinedata[0:5])\n",
    "# py.iplot(redwine_overview_table, filename='winequality-red')"
   ]
  },
  {
   "cell_type": "markdown",
   "metadata": {},
   "source": [
    "Now calculate some basic statistic values from the data set:"
   ]
  },
  {
   "cell_type": "code",
   "execution_count": 3,
   "metadata": {},
   "outputs": [],
   "source": [
    "# use like this to get only one mean = np.mean(redwinedata['pH'])\n",
    "red_mean = np.mean(redwinedata)\n",
    "#need to specify axis for mean!\n",
    "red_median = np.median(redwinedata, axis=0)\n",
    "red_stdev = np.std(redwinedata)\n",
    "white_mean = np.mean(redwinedata)\n",
    "white_median = np.median(redwinedata, axis=0)\n",
    "white_stdev = np.std(redwinedata)\n",
    "\n",
    "#convert median to panda series\n",
    "red_median = pandas.Series(list(red_median))\n",
    "white_median = pandas.Series(list(white_median))\n",
    "\n",
    "#print(np.mean(redwinedata))\n",
    "#print (type(red_median))\n",
    "#print (type(red_mean))\n"
   ]
  },
  {
   "cell_type": "code",
   "execution_count": 4,
   "metadata": {},
   "outputs": [],
   "source": [
    "#convert from type: series to new type dataframe to be able to plot. \n",
    "basicStats = pandas.DataFrame({'property':red_mean.index, 'mean':red_mean.values, 'std_dev': red_stdev.values, 'median': red_median.values })\n"
   ]
  },
  {
   "cell_type": "code",
   "execution_count": 5,
   "metadata": {},
   "outputs": [
    {
     "data": {
      "text/html": [
       "<iframe id=\"igraph\" scrolling=\"no\" style=\"border:none;\" seamless=\"seamless\" src=\"https://plot.ly/~timohe/8.embed\" height=\"440px\" width=\"100%\"></iframe>"
      ],
      "text/plain": [
       "<plotly.tools.PlotlyDisplay object>"
      ]
     },
     "execution_count": 5,
     "metadata": {},
     "output_type": "execute_result"
    }
   ],
   "source": [
    "redwine_mean_table = figureFact.create_table(basicStats)\n",
    "py.iplot(redwine_mean_table, filename='basicStats_redwine')"
   ]
  },
  {
   "cell_type": "markdown",
   "metadata": {},
   "source": [
    "merged = pd.merge(left, right, on='key')"
   ]
  }
 ],
 "metadata": {
  "kernelspec": {
   "display_name": "Python 3",
   "language": "python",
   "name": "python3"
  },
  "language_info": {
   "codemirror_mode": {
    "name": "ipython",
    "version": 3
   },
   "file_extension": ".py",
   "mimetype": "text/x-python",
   "name": "python",
   "nbconvert_exporter": "python",
   "pygments_lexer": "ipython3",
   "version": "3.5.4"
  }
 },
 "nbformat": 4,
 "nbformat_minor": 1
}
